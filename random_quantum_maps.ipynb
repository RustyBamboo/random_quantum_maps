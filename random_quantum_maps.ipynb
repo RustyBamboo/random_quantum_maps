{
 "cells": [
  {
   "cell_type": "code",
   "execution_count": 16,
   "metadata": {},
   "outputs": [],
   "source": [
    "import matplotlib.pyplot as plt\n",
    "import scienceplots\n",
    "from brokenaxes import brokenaxes\n",
    "\n",
    "import numpy as np\n",
    "\n",
    "import qiskit\n",
    "from qiskit import QuantumCircuit\n",
    "\n",
    "from qiskit_aer.noise import NoiseModel\n",
    "from qiskit.providers.models import BackendProperties\n",
    "\n",
    "from qiskit_aer import AerSimulator\n",
    "\n",
    "import pickle"
   ]
  },
  {
   "cell_type": "code",
   "execution_count": 2,
   "metadata": {},
   "outputs": [],
   "source": [
    "from qiskit import qasm3"
   ]
  },
  {
   "cell_type": "code",
   "execution_count": 33,
   "metadata": {},
   "outputs": [],
   "source": [
    "counts_vec_real_kyoto = np.load(\"data/counts_kyoto.npy\")\n",
    "counts_vec_real_osaka = np.load(\"data/counts_osaka.npy\")"
   ]
  },
  {
   "cell_type": "code",
   "execution_count": 68,
   "metadata": {},
   "outputs": [],
   "source": [
    "with open('data/random_circuits_inputs_kyoto.pickle', 'rb') as handle:\n",
    "    inputs_kyoto = pickle.load(handle)\n",
    "\n",
    "with open('data/random_circuits_inputs_osaka.pickle', 'rb') as handle:\n",
    "    inputs_osaka = pickle.load(handle)\n",
    "\n",
    "with open('data/properties_kyoto.pickle', 'rb') as handle:\n",
    "    properties_kyoto = pickle.load(handle)\n",
    "\n",
    "with open('data/properties_kyoto.pickle', 'rb') as handle:\n",
    "    properties_osaka = pickle.load(handle)\n",
    "\n",
    "with open('data/coupling_map_kyoto.pickle', 'rb') as handle:\n",
    "    coupling_map_kyoto = pickle.load(handle)\n",
    "\n",
    "with open('data/coupling_map_osaka.pickle', 'rb') as handle:\n",
    "    coupling_map_osaka = pickle.load(handle)"
   ]
  },
  {
   "cell_type": "code",
   "execution_count": null,
   "metadata": {},
   "outputs": [],
   "source": [
    "\n",
    "inputs_kyoto['circuits'] = [qasm3.loads(c) for c in inputs_kyoto['circuits']]\n",
    "inputs_osaka['circuits'] = [qasm3.loads(c) for c in inputs_osaka['circuits']]"
   ]
  },
  {
   "cell_type": "code",
   "execution_count": 25,
   "metadata": {},
   "outputs": [],
   "source": [
    "circuits_kyoto = inputs_kyoto['circuits'] \n",
    "circuits_osaka = inputs_osaka['circuits']\n",
    "\n",
    "shots = inputs_kyoto['shots']"
   ]
  },
  {
   "cell_type": "code",
   "execution_count": 69,
   "metadata": {},
   "outputs": [],
   "source": [
    "properties_kyoto = BackendProperties.from_dict(properties_kyoto)\n",
    "properties_osaka = BackendProperties.from_dict(properties_osaka)"
   ]
  },
  {
   "cell_type": "code",
   "execution_count": 70,
   "metadata": {},
   "outputs": [],
   "source": [
    "noise_model_kyoto = NoiseModel.from_backend_properties(properties_kyoto)\n",
    "noise_model_osaka = NoiseModel.from_backend_properties(properties_osaka)"
   ]
  },
  {
   "cell_type": "code",
   "execution_count": 71,
   "metadata": {},
   "outputs": [],
   "source": [
    "qubits_kyoto = [43, 44, 45, 46]\n",
    "qubits_osaka = [25, 26, 27, 28]\n"
   ]
  },
  {
   "cell_type": "code",
   "execution_count": 72,
   "metadata": {},
   "outputs": [
    {
     "name": "stdout",
     "output_type": "stream",
     "text": [
      "ibm_kyoto\n",
      "43 38.62465065094961 320.94331825663966 0.017099999999999893 0.015599999999999947\n",
      "44 375.1139924218498 201.81312150935295 0.007900000000000018 0.0066\n",
      "45 292.5096961792252 376.82636831758697 0.006900000000000017 0.007\n",
      "46 366.12917805914225 322.8324687697393 0.008099999999999996 0.009199999999999986\n",
      "ibm_osaka\n",
      "25 225.0584463838339 221.38198507584 0.049900000000000055 0.0462\n",
      "26 272.1743173943456 278.5778874932316 0.005800000000000027 0.0054\n",
      "27 227.76620733464685 94.28378700631171 0.006099999999999994 0.0052\n",
      "28 173.14502688778018 27.88978975935019 0.03600000000000003 0.0486\n"
     ]
    }
   ],
   "source": [
    "print(\"ibm_kyoto\")\n",
    "for q in qubits_kyoto:\n",
    "    print(\n",
    "        f\"{q} {properties_kyoto.t1(q)*1e6} {properties_kyoto.t2(q)*1e6} {properties_kyoto.readout_error(q)} {properties_kyoto.qubit_property(q)['prob_meas1_prep0'][0]}\"\n",
    "    )\n",
    "\n",
    "print(\"ibm_osaka\")\n",
    "for q in qubits_osaka:\n",
    "    print(\n",
    "        f\"{q} {properties_osaka.t1(q)*1e6} {properties_osaka.t2(q)*1e6} {properties_osaka.readout_error(q)} {properties_osaka.qubit_property(q)['prob_meas1_prep0'][0]}\"\n",
    "    )"
   ]
  },
  {
   "cell_type": "code",
   "execution_count": 73,
   "metadata": {},
   "outputs": [],
   "source": [
    "# backend_sim_kyoto = AerSimulator.from_backend(backend_real_kyoto)\n",
    "backend_sim_kyoto = AerSimulator(noise_model = noise_model_kyoto,\n",
    "                                coupling_map = coupling_map_kyoto,\n",
    "                                basis_gates=noise_model_kyoto.basis_gates)\n",
    "backend_sim_kyoto.set_options(device='GPU')\n",
    "\n",
    "# backend_sim_osaka = AerSimulator.from_backend(backend_real_osaka)\n",
    "backend_sim_osaka = AerSimulator(noise_model = noise_model_osaka,\n",
    "                                coupling_map = coupling_map_osaka,\n",
    "                                basis_gates=noise_model_osaka.basis_gates)\n",
    "backend_sim_osaka.set_options(device='GPU')\n",
    "\n",
    "\n",
    "\n",
    "# Long run time if using two AerSimlators with GPU\n",
    "backend_sim_ideal = AerSimulator()\n",
    "# backend_sim_ideal.set_options(device='GPU')"
   ]
  },
  {
   "cell_type": "code",
   "execution_count": 74,
   "metadata": {},
   "outputs": [],
   "source": [
    "job_sim_kyoto = backend_sim_kyoto.run(circuits_kyoto, shots=shots)\n",
    "job_sim_osaka = backend_sim_osaka.run(circuits_osaka, shots=shots)\n",
    "job_sim_ideal = backend_sim_ideal.run(circuits_osaka, shots=shots)"
   ]
  },
  {
   "cell_type": "code",
   "execution_count": 75,
   "metadata": {},
   "outputs": [],
   "source": [
    "counts_sim_kyoto = job_sim_kyoto.result().get_counts()"
   ]
  },
  {
   "cell_type": "code",
   "execution_count": 76,
   "metadata": {},
   "outputs": [],
   "source": [
    "counts_sim_osaka = job_sim_osaka.result().get_counts()\n"
   ]
  },
  {
   "cell_type": "code",
   "execution_count": 77,
   "metadata": {},
   "outputs": [],
   "source": [
    "counts_sim_ideal = job_sim_ideal.result().get_counts()\n"
   ]
  },
  {
   "cell_type": "code",
   "execution_count": 78,
   "metadata": {},
   "outputs": [],
   "source": [
    "def counts_to_vec(counts):\n",
    "    vals = dict(sorted(counts.int_outcomes().items())).values()\n",
    "    return np.array(list(vals)) / shots\n",
    "\n",
    "counts_vec_sim_kyoto = np.stack([counts_to_vec(c) for c in counts_sim_kyoto])\n",
    "counts_vec_sim_osaka = np.stack([counts_to_vec(c) for c in counts_sim_osaka])\n",
    "counts_vec_sim_ideal = np.stack([counts_to_vec(c) for c in counts_sim_ideal])"
   ]
  },
  {
   "cell_type": "code",
   "execution_count": 79,
   "metadata": {},
   "outputs": [],
   "source": [
    "from scipy.stats import gamma\n",
    "a = 16.76398344104434  # shape parameter (alpha)\n",
    "scale = 0.007456461672107913  # scale parameter (theta)\n",
    "\n",
    "# Create the gamma distribution\n",
    "g = gamma(a, scale=scale)\n",
    "xrange = np.linspace(0,0.35, 1000)"
   ]
  },
  {
   "cell_type": "code",
   "execution_count": 80,
   "metadata": {},
   "outputs": [
    {
     "name": "stdout",
     "output_type": "stream",
     "text": [
      "['#0C5DA5', '#00B945', '#FF9500', '#FF2C00', '#845B97', '#474747', '#9e9e9e']\n",
      "[3.5   2.625]\n"
     ]
    },
    {
     "data": {
      "image/png": "[encoded data removed]",
      "text/plain": [
       "<Figure size 350x262.5 with 3 Axes>"
      ]
     },
     "metadata": {},
     "output_type": "display_data"
    }
   ],
   "source": [
    "with plt.style.context('science', 'ieee`'):\n",
    "\n",
    "    colors = plt.rcParams['axes.prop_cycle'].by_key()['color']\n",
    "    print(colors)\n",
    "\n",
    "    bax = brokenaxes(xlims=((0, 0.25), (0.99, 1)))\n",
    "    nbins = 25\n",
    "\n",
    "\n",
    "    # plt.hist(counts_vec_all, bins=nbins, density=True, stacked=True, label=labels)\n",
    "\n",
    "    bax.hist(counts_vec_real_kyoto.reshape(-1), density=True, bins=nbins, label='ibm_kyoto', histtype='step', color=colors[0])\n",
    "    bax.hist(counts_vec_sim_kyoto.reshape(-1), density=True,  bins=nbins, label='kyoto_sim', histtype='step', ls='dotted', color=colors[0])\n",
    "    bax.hist(counts_vec_real_osaka.reshape(-1), density=True, bins=nbins, label='ibm_osaka', histtype='step', color=colors[1])\n",
    "    bax.hist(counts_vec_sim_osaka.reshape(-1), density=True,  bins=20,    label='osaka_sim', histtype='step', ls='dotted', alpha=1, color=colors[1])\n",
    "    bax.hist(counts_vec_sim_ideal.reshape(-1), density=True,  bins=nbins, label='ideal_sim', histtype='step', ls='-', alpha=1, color=colors[2])\n",
    "    bax.plot(xrange, g.pdf(xrange), label='Theory', color='black', alpha=1)\n",
    "    \n",
    "    bax.set_xlabel(r'Probability of $\\left|x\\right\\rangle $')\n",
    "    bax.set_ylabel(r'Occurence', labelpad=16)\n",
    "    leg = bax.legend(handlelength=1)\n",
    "    bax.tick_params()\n",
    "\n",
    "fig = plt.gcf()\n",
    "size = fig.get_size_inches()\n",
    "print(size)\n",
    "\n",
    "\n",
    "plt.show()"
   ]
  },
  {
   "cell_type": "code",
   "execution_count": 81,
   "metadata": {},
   "outputs": [
    {
     "name": "stdout",
     "output_type": "stream",
     "text": [
      "KstestResult(statistic=0.10342369275491392, pvalue=6.647140436517514e-08, statistic_location=0.102294921875, statistic_sign=-1)\n",
      "KstestResult(statistic=0.2755894148989497, pvalue=3.3938136927452474e-54, statistic_location=0.1099639892578125, statistic_sign=-1)\n",
      "KstestResult(statistic=0.08110088442652884, pvalue=5.031070027822661e-05, statistic_location=0.09765625, statistic_sign=-1)\n",
      "KstestResult(statistic=0.10935081931301016, pvalue=8.716943361760823e-09, statistic_location=0.10205078125, statistic_sign=-1)\n"
     ]
    }
   ],
   "source": [
    "from scipy import stats\n",
    "\n",
    "ecdf_real_kyoto = stats.ecdf(counts_vec_real_kyoto.reshape(-1))\n",
    "ecdf_real_osaka = stats.ecdf(counts_vec_real_osaka.reshape(-1))\n",
    "ecdf_sim_kyoto = stats.ecdf(counts_vec_sim_kyoto.reshape(-1))\n",
    "ecdf_sim_osaka = stats.ecdf(counts_vec_sim_osaka.reshape(-1))\n",
    "ecdf_sim_ideal = stats.ecdf(counts_vec_sim_ideal.reshape(-1))\n",
    "\n",
    "\n",
    "print(stats.kstest(counts_vec_real_kyoto.reshape(-1), g.cdf))\n",
    "print(stats.kstest(counts_vec_real_osaka.reshape(-1), g.cdf))\n",
    "print(stats.kstest(counts_vec_sim_kyoto.reshape(-1), g.cdf))\n",
    "print(stats.kstest(counts_vec_sim_osaka.reshape(-1), g.cdf))"
   ]
  },
  {
   "cell_type": "code",
   "execution_count": 82,
   "metadata": {},
   "outputs": [
    {
     "name": "stdout",
     "output_type": "stream",
     "text": [
      "[3.5   2.625]\n"
     ]
    },
    {
     "data": {
      "image/png": "[encoded data removed]",
      "text/plain": [
       "<Figure size 350x262.5 with 3 Axes>"
      ]
     },
     "metadata": {},
     "output_type": "display_data"
    }
   ],
   "source": [
    "cdf_range = np.linspace(0, 0.25, 100)\n",
    "cdf_ideal = gamma(a=26.483675759507783, loc=-0.029209393141463653, scale=0.005750784938985662).cdf(cdf_range)\n",
    "\n",
    "with plt.style.context('science', 'ieee`'):\n",
    "    colors = plt.rcParams['axes.prop_cycle'].by_key()['color']\n",
    "\n",
    "    # plt.figure(figsize=(fig_width, fig_height))\n",
    "\n",
    "    bax = brokenaxes(xlims=((0.05, 0.2), (0.99, 1)))\n",
    "\n",
    "\n",
    "    ecdf_real_kyoto.cdf.plot(label='ibm_kyoto', ls='-', ax=bax, color=colors[0])\n",
    "    ecdf_sim_kyoto.cdf.plot(label='kyoto_sim',  ls='dotted', ax=bax, color=colors[0])\n",
    "    ecdf_real_osaka.cdf.plot(label='ibm_osaka', ls='-', ax=bax, color=colors[1])\n",
    "    ecdf_sim_osaka.cdf.plot(label='osaka_sim',  ls='dotted', ax=bax, color=colors[1])\n",
    "    ecdf_sim_ideal.cdf.plot(label='ideal_sim',  ls='-', ax=bax, color=colors[2])\n",
    "    bax.plot(cdf_range, cdf_ideal, label='Theory', c='black')\n",
    "\n",
    "    bax.set_xlabel(r'Probability of $\\left|x\\right\\rangle $')\n",
    "    bax.set_ylabel(r'Empirical CDF', labelpad=20)\n",
    "    bax.legend(loc=4, handlelength=1)\n",
    "\n",
    "    bax.tick_params()\n",
    "\n",
    "fig = plt.gcf()\n",
    "size = fig.get_size_inches()\n",
    "print(size)\n",
    "\n",
    "plt.show()"
   ]
  },
  {
   "cell_type": "code",
   "execution_count": 83,
   "metadata": {},
   "outputs": [
    {
     "name": "stdout",
     "output_type": "stream",
     "text": [
      "[3.5   2.625]\n"
     ]
    },
    {
     "data": {
      "image/png": "[encoded data removed]",
      "text/plain": [
       "<Figure size 350x262.5 with 1 Axes>"
      ]
     },
     "metadata": {},
     "output_type": "display_data"
    }
   ],
   "source": [
    "common_opts = dict(marker=\"+\", linestyle='none', mew=0.5)\n",
    "common_opts_sim = dict(marker=\".\", linestyle='none', mew=1)\n",
    "\n",
    "with plt.style.context('science', 'ieee`'):\n",
    "    colors = plt.rcParams['axes.prop_cycle'].by_key()['color']\n",
    "    # plt.figure(figsize=(fig_width, fig_height))\n",
    "\n",
    "    res_real_kyoto = stats.probplot(counts_vec_real_kyoto.reshape(-1), dist=g, plot=None,)\n",
    "    res_real_osaka = stats.probplot(counts_vec_real_osaka.reshape(-1), dist=g, plot=None,)\n",
    "    res_sim_kyoto = stats.probplot(counts_vec_sim_kyoto.reshape(-1), dist=g, plot=None)\n",
    "    res_sim_osaka = stats.probplot(counts_vec_sim_osaka.reshape(-1), dist=g, plot=None)\n",
    "    res_sim_ideal = stats.probplot(counts_vec_sim_ideal.reshape(-1), dist=g, plot=None)\n",
    "\n",
    "    plt.plot(res_real_kyoto[0][0], res_real_kyoto[0][1], label='ibm_kyoto', **common_opts,)\n",
    "    plt.plot(res_real_osaka[0][0], res_real_osaka[0][1], label='ibm_osaka', **common_opts,)\n",
    "    plt.plot(res_sim_kyoto[0][0], res_sim_kyoto[0][1], label='tokyo_sim', **common_opts_sim, ms=2,alpha=1)\n",
    "    plt.plot(res_sim_osaka[0][0], res_sim_osaka[0][1], label='osaka_sim', **common_opts_sim, ms=2,alpha=1)\n",
    "    plt.plot(res_sim_ideal[0][0], res_sim_ideal[0][1], label='ideal_sim', **common_opts_sim, ms=2,alpha=1)\n",
    "\n",
    "\n",
    "    # Draw the theory line\n",
    "    slope, intercept = 1, 0\n",
    "    line_values = slope * res_real_kyoto[0][0] + intercept\n",
    "    plt.plot(res_real_kyoto[0][0], line_values, label='Theory', color='black')\n",
    "\n",
    "    # plt.axis('square')\n",
    "    plt.xlabel('Quantiles')\n",
    "    plt.ylabel('Ordered Values')\n",
    "    plt.legend(handlelength=1, loc=2)\n",
    "\n",
    "    plt.xticks()\n",
    "    plt.yticks()\n",
    "\n",
    "fig = plt.gcf()\n",
    "size = fig.get_size_inches()\n",
    "print(size)\n",
    "plt.show()"
   ]
  }
 ],
 "metadata": {
  "kernelspec": {
   "display_name": ".venv",
   "language": "python",
   "name": "python3"
  },
  "language_info": {
   "codemirror_mode": {
    "name": "ipython",
    "version": 3
   },
   "file_extension": ".py",
   "mimetype": "text/x-python",
   "name": "python",
   "nbconvert_exporter": "python",
   "pygments_lexer": "ipython3",
   "version": "3.11.8"
  }
 },
 "nbformat": 4,
 "nbformat_minor": 2
}
